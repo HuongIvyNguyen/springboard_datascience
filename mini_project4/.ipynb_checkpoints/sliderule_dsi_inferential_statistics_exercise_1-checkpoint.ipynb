{
 "cells": [
  {
   "cell_type": "markdown",
   "metadata": {},
   "source": [
    "# What is the True Normal Human Body Temperature? \n",
    "\n",
    "#### Background\n",
    "\n",
    "The mean normal body temperature was held to be 37$^{\\circ}$C or 98.6$^{\\circ}$F for more than 120 years since it was first conceptualized and reported by Carl Wunderlich in a famous 1868 book. But, is this value statistically correct?"
   ]
  },
  {
   "cell_type": "markdown",
   "metadata": {},
   "source": [
    "<h3>Exercises</h3>\n",
    "\n",
    "<p>In this exercise, you will analyze a dataset of human body temperatures and employ the concepts of hypothesis testing, confidence intervals, and statistical significance.</p>\n",
    "\n",
    "<p>Answer the following questions <b>in this notebook below and submit to your Github account</b>.</p> \n",
    "\n",
    "<ol>\n",
    "<li>  Is the distribution of body temperatures normal? \n",
    "    <ul>\n",
    "    <li> Although this is not a requirement for the Central Limit Theorem to hold (read the introduction on Wikipedia's page about the CLT carefully: https://en.wikipedia.org/wiki/Central_limit_theorem), it gives us some peace of mind that the population may also be normally distributed if we assume that this sample is representative of the population.\n",
    "    <li> Think about the way you're going to check for the normality of the distribution. Graphical methods are usually used first, but there are also other ways: https://en.wikipedia.org/wiki/Normality_test\n",
    "    </ul>\n",
    "<li>  Is the sample size large? Are the observations independent?\n",
    "    <ul>\n",
    "    <li> Remember that this is a condition for the Central Limit Theorem, and hence the statistical tests we are using, to apply.\n",
    "    </ul>\n",
    "<li>  Is the true population mean really 98.6 degrees F?\n",
    "    <ul>\n",
    "    <li> First, try a bootstrap hypothesis test.\n",
    "    <li> Now, let's try frequentist statistical testing. Would you use a one-sample or two-sample test? Why?\n",
    "    <li> In this situation, is it appropriate to use the $t$ or $z$ statistic? \n",
    "    <li> Now try using the other test. How is the result be different? Why?\n",
    "    </ul>\n",
    "<li>  Draw a small sample of size 10 from the data and repeat both frequentist tests. \n",
    "    <ul>\n",
    "    <li> Which one is the correct one to use? \n",
    "    <li> What do you notice? What does this tell you about the difference in application of the $t$ and $z$ statistic?\n",
    "    </ul>\n",
    "<li>  At what temperature should we consider someone's temperature to be \"abnormal\"?\n",
    "    <ul>\n",
    "    <li> As in the previous example, try calculating everything using the boostrap approach, as well as the frequentist approach.\n",
    "    <li> Start by computing the margin of error and confidence interval. When calculating the confidence interval, keep in mind that you should use the appropriate formula for one draw, and not N draws.\n",
    "    </ul>\n",
    "<li>  Is there a significant difference between males and females in normal temperature?\n",
    "    <ul>\n",
    "    <li> What testing approach did you use and why?\n",
    "    <li> Write a story with your conclusion in the context of the original problem.\n",
    "    </ul>\n",
    "</ol>\n",
    "\n",
    "You can include written notes in notebook cells using Markdown: \n",
    "   - In the control panel at the top, choose Cell > Cell Type > Markdown\n",
    "   - Markdown syntax: http://nestacms.com/docs/creating-content/markdown-cheat-sheet\n",
    "\n",
    "#### Resources\n",
    "\n",
    "+ Information and data sources: http://www.amstat.org/publications/jse/datasets/normtemp.txt, http://www.amstat.org/publications/jse/jse_data_archive.htm\n",
    "+ Markdown syntax: http://nestacms.com/docs/creating-content/markdown-cheat-sheet\n",
    "\n",
    "****"
   ]
  },
  {
   "cell_type": "code",
   "execution_count": 1,
   "metadata": {},
   "outputs": [],
   "source": [
    "import pandas as pd\n",
    "\n",
    "df = pd.read_csv('data/human_body_temperature.csv')"
   ]
  },
  {
   "cell_type": "code",
   "execution_count": 2,
   "metadata": {},
   "outputs": [
    {
     "data": {
      "text/html": [
       "<div>\n",
       "<style scoped>\n",
       "    .dataframe tbody tr th:only-of-type {\n",
       "        vertical-align: middle;\n",
       "    }\n",
       "\n",
       "    .dataframe tbody tr th {\n",
       "        vertical-align: top;\n",
       "    }\n",
       "\n",
       "    .dataframe thead th {\n",
       "        text-align: right;\n",
       "    }\n",
       "</style>\n",
       "<table border=\"1\" class=\"dataframe\">\n",
       "  <thead>\n",
       "    <tr style=\"text-align: right;\">\n",
       "      <th></th>\n",
       "      <th>temperature</th>\n",
       "      <th>gender</th>\n",
       "      <th>heart_rate</th>\n",
       "    </tr>\n",
       "  </thead>\n",
       "  <tbody>\n",
       "    <tr>\n",
       "      <th>0</th>\n",
       "      <td>99.3</td>\n",
       "      <td>F</td>\n",
       "      <td>68.0</td>\n",
       "    </tr>\n",
       "    <tr>\n",
       "      <th>1</th>\n",
       "      <td>98.4</td>\n",
       "      <td>F</td>\n",
       "      <td>81.0</td>\n",
       "    </tr>\n",
       "    <tr>\n",
       "      <th>2</th>\n",
       "      <td>97.8</td>\n",
       "      <td>M</td>\n",
       "      <td>73.0</td>\n",
       "    </tr>\n",
       "    <tr>\n",
       "      <th>3</th>\n",
       "      <td>99.2</td>\n",
       "      <td>F</td>\n",
       "      <td>66.0</td>\n",
       "    </tr>\n",
       "    <tr>\n",
       "      <th>4</th>\n",
       "      <td>98.0</td>\n",
       "      <td>F</td>\n",
       "      <td>73.0</td>\n",
       "    </tr>\n",
       "  </tbody>\n",
       "</table>\n",
       "</div>"
      ],
      "text/plain": [
       "   temperature gender  heart_rate\n",
       "0         99.3      F        68.0\n",
       "1         98.4      F        81.0\n",
       "2         97.8      M        73.0\n",
       "3         99.2      F        66.0\n",
       "4         98.0      F        73.0"
      ]
     },
     "execution_count": 2,
     "metadata": {},
     "output_type": "execute_result"
    }
   ],
   "source": [
    "df.head()"
   ]
  },
  {
   "cell_type": "code",
   "execution_count": 3,
   "metadata": {},
   "outputs": [
    {
     "data": {
      "text/html": [
       "<div>\n",
       "<style scoped>\n",
       "    .dataframe tbody tr th:only-of-type {\n",
       "        vertical-align: middle;\n",
       "    }\n",
       "\n",
       "    .dataframe tbody tr th {\n",
       "        vertical-align: top;\n",
       "    }\n",
       "\n",
       "    .dataframe thead th {\n",
       "        text-align: right;\n",
       "    }\n",
       "</style>\n",
       "<table border=\"1\" class=\"dataframe\">\n",
       "  <thead>\n",
       "    <tr style=\"text-align: right;\">\n",
       "      <th></th>\n",
       "      <th>temperature</th>\n",
       "      <th>heart_rate</th>\n",
       "    </tr>\n",
       "  </thead>\n",
       "  <tbody>\n",
       "    <tr>\n",
       "      <th>count</th>\n",
       "      <td>130.000000</td>\n",
       "      <td>130.000000</td>\n",
       "    </tr>\n",
       "    <tr>\n",
       "      <th>mean</th>\n",
       "      <td>98.249231</td>\n",
       "      <td>73.761538</td>\n",
       "    </tr>\n",
       "    <tr>\n",
       "      <th>std</th>\n",
       "      <td>0.733183</td>\n",
       "      <td>7.062077</td>\n",
       "    </tr>\n",
       "    <tr>\n",
       "      <th>min</th>\n",
       "      <td>96.300000</td>\n",
       "      <td>57.000000</td>\n",
       "    </tr>\n",
       "    <tr>\n",
       "      <th>25%</th>\n",
       "      <td>97.800000</td>\n",
       "      <td>69.000000</td>\n",
       "    </tr>\n",
       "    <tr>\n",
       "      <th>50%</th>\n",
       "      <td>98.300000</td>\n",
       "      <td>74.000000</td>\n",
       "    </tr>\n",
       "    <tr>\n",
       "      <th>75%</th>\n",
       "      <td>98.700000</td>\n",
       "      <td>79.000000</td>\n",
       "    </tr>\n",
       "    <tr>\n",
       "      <th>max</th>\n",
       "      <td>100.800000</td>\n",
       "      <td>89.000000</td>\n",
       "    </tr>\n",
       "  </tbody>\n",
       "</table>\n",
       "</div>"
      ],
      "text/plain": [
       "       temperature  heart_rate\n",
       "count   130.000000  130.000000\n",
       "mean     98.249231   73.761538\n",
       "std       0.733183    7.062077\n",
       "min      96.300000   57.000000\n",
       "25%      97.800000   69.000000\n",
       "50%      98.300000   74.000000\n",
       "75%      98.700000   79.000000\n",
       "max     100.800000   89.000000"
      ]
     },
     "execution_count": 3,
     "metadata": {},
     "output_type": "execute_result"
    }
   ],
   "source": [
    "df.describe()"
   ]
  },
  {
   "cell_type": "code",
   "execution_count": 4,
   "metadata": {},
   "outputs": [
    {
     "name": "stdout",
     "output_type": "stream",
     "text": [
      "There is 130data points in this dataset.\n"
     ]
    }
   ],
   "source": [
    "print('There is %d' %len(df['temperature']) + 'data points in this dataset.')"
   ]
  },
  {
   "cell_type": "markdown",
   "metadata": {},
   "source": [
    "### Task 1: Determine whether the distribution of body temperatures normal?"
   ]
  },
  {
   "cell_type": "markdown",
   "metadata": {},
   "source": [
    "In order to determine whether the distribution of body temperatures is normal, a histogram of this dataset will need to be conducted for further comparison to an empirical normal probability curve (probability density function, PDF). If the histogram fits the empirical normal curve, we could say this datset is normally distributed. However,the shape of the histogram can be distorted due to the number of bins chosen, an additional test such as D'Agostino K-squared test should also be performed to check for the normality of the dataset of interest. Additionally, when the dataset is small, it would be difficult to identify whether the given dataset fits well with the PDF, thus another graphical method such as quantile-quantile plot should be conducted as well. "
   ]
  },
  {
   "cell_type": "markdown",
   "metadata": {},
   "source": [
    "#### Step 1: Checking the histogram of the body temperature dataset against the probability density function (PDF)"
   ]
  },
  {
   "cell_type": "code",
   "execution_count": 5,
   "metadata": {},
   "outputs": [
    {
     "data": {
      "image/png": "[encoded data removed]",
      "text/plain": [
       "<Figure size 432x288 with 1 Axes>"
      ]
     },
     "metadata": {},
     "output_type": "display_data"
    }
   ],
   "source": [
    "import matplotlib.pyplot as plt\n",
    "import seaborn as sns\n",
    "import numpy as np\n",
    "from scipy.stats import norm\n",
    "\n",
    "\n",
    "%matplotlib inline \n",
    "\n",
    "#Fit the given dataset to a normal distribution. The obtained parameters \n",
    "#are the mean and the standard deviation of the fitted normal curve\n",
    "mu, std = norm.fit(np.array(df['temperature']))\n",
    "\n",
    "#Generate an array of x-values based on the min and max values of the given boday temperature dataset\n",
    "xmin, xmax = np.min(df['temperature']), np.max(df['temperature'])\n",
    "x = np.linspace(xmin, xmax, 1000)\n",
    "\n",
    "#Calculate the probability of x array\n",
    "p = norm.pdf(x, mu, std)\n",
    "\n",
    "#Plotting histogram and the line plot together\n",
    "plt.hist(df['temperature'], bins=25, density=True, alpha=0.6, color='r')\n",
    "plt.plot(x, p, 'k', linewidth=2)\n",
    "title = \"Fit Results: mu = %.2f,  std = %.2f\" % (mu, std)\n",
    "plt.xlabel('body temperature')\n",
    "plt.ylabel('frequency')\n",
    "plt.title('Histogram of Body Temperature with %s' %title)\n",
    "plt.legend(['fitted normal distribution'])\n",
    "plt.show()"
   ]
  },
  {
   "cell_type": "markdown",
   "metadata": {},
   "source": [
    "The resulted graph above shows that the given dataset seems to be normally distributed when compare to the fitted normal distribution curve. However, an additional test is needed to confirm this result. "
   ]
  },
  {
   "cell_type": "markdown",
   "metadata": {},
   "source": [
    "#### Step 2: Test the body temperature dataset against the D'Agostino K-Squared Test"
   ]
  },
  {
   "cell_type": "code",
   "execution_count": 28,
   "metadata": {},
   "outputs": [
    {
     "name": "stdout",
     "output_type": "stream",
     "text": [
      "The null hypothesis cannot be rejected.\n"
     ]
    }
   ],
   "source": [
    "import scipy.stats as stats\n",
    "test = stats.mstats.normaltest(df['temperature'])\n",
    "\n",
    "def test_null(p_value):\n",
    "    'Set an alpha value for statistical significance measurement of \\\n",
    "    the null hypothesis the given body temperature dataset is likely to come from \\\n",
    "    a normal distribution'\n",
    "    \n",
    "    alpha = 0.05\n",
    "    if p_value < alpha: \n",
    "        result = 'The null hyposthesis is rejected.'\n",
    "    else: \n",
    "        result = 'The null hypothesis cannot be rejected.'\n",
    "    return result\n",
    "        \n",
    "print(test_null(test[1]))"
   ]
  },
  {
   "cell_type": "markdown",
   "metadata": {},
   "source": [
    "According to the results obtained from running the D'Agostino K-Squared Test, there is a 25.9% chance that the null hypothesis, which indicates that the given dataset is normally distributed. Since this p-value is not very small (>0.05), it means that is likely that this dataset came from a normal distribution. \n",
    "Finally, since the sample size of this given dataset is only 130, it would be best to perform another graphical method to confirm the conclusion. The next step in this analysis will involve plotting a quantile-quantile plot to validate the normality of this dataset. "
   ]
  },
  {
   "cell_type": "markdown",
   "metadata": {},
   "source": [
    "#### Step 3: Quantile-quantile plot "
   ]
  },
  {
   "cell_type": "code",
   "execution_count": 8,
   "metadata": {},
   "outputs": [
    {
     "data": {
      "image/png": "[encoded data removed]",
      "text/plain": [
       "<Figure size 432x288 with 1 Axes>"
      ]
     },
     "metadata": {},
     "output_type": "display_data"
    }
   ],
   "source": [
    "import statsmodels.api as sm\n",
    "\n",
    "sm.qqplot(df['temperature'], stats.t, fit=True, line='45')\n",
    "plt.show()"
   ]
  },
  {
   "cell_type": "markdown",
   "metadata": {},
   "source": [
    "A quantile-quantile plot (Q-Q plot) is a probability plot that can be used to show whether a given dataset is normally distributed by comparing its probability distributions's quantiles to a normal distribution's quantiles. If the points on the Q-Q plot lie on the line y=x, then the given data set is considered to come from a normal distribution. The generated figure above shows that there is a linear correlation between the sample quantiles and the theorical quantiles, which indicates the body temperature dataset is normally distributed. "
   ]
  },
  {
   "cell_type": "markdown",
   "metadata": {},
   "source": [
    "### Task 2: Is the sample size large? Are the observations independent?"
   ]
  },
  {
   "cell_type": "markdown",
   "metadata": {},
   "source": [
    "The sample size of this given dataset is 130, which is considered to be large based on the central limit theorem. The reason behind this number is that: if there is a population with mean (mu) and standard deviation (sigma) and a sufficiently large random samples of the size 30 or larger are taken, then the sample means will be approximately normally distributed. When the sample size is less than 30, then this fact would not hold to be true. \n",
    "\n",
    "The observations are independent for this dataset since they are taken from different people. "
   ]
  },
  {
   "cell_type": "markdown",
   "metadata": {},
   "source": [
    "### Task 3: Is the true population mean really 98.6 degrees F?"
   ]
  },
  {
   "cell_type": "markdown",
   "metadata": {},
   "source": [
    "#### Step 1: Boostrap Hypothesis Testing"
   ]
  },
  {
   "cell_type": "markdown",
   "metadata": {},
   "source": [
    "In order to solve for this problem, a hypothesis test will need to be conducted. The null hypothesis would be that the true mean of body temperature is 98.6 F while the alternative hypothesis would be the mean of the body temperature is different from 98.6 F. Let T be the mean of body temperature, then the following statements would be applied for this hypothesis test. \n",
    "\n",
    "H <sub>o </sub>: T = 98.6 F\n",
    "\n",
    "H <sub>a </sub>: T != 98.6 F"
   ]
  },
  {
   "cell_type": "code",
   "execution_count": 51,
   "metadata": {},
   "outputs": [
    {
     "name": "stdout",
     "output_type": "stream",
     "text": [
      "The standard error of the mean body temperature is 0:\n",
      "The standard deviation of bootstrap replicates is 0\n",
      "The p-value of the number of bootstrap replicates that have a mean of 98.6 is 0:which is much less than alpha=0.05.\n",
      "The null hyposthesis is rejected.\n"
     ]
    },
    {
     "name": "stderr",
     "output_type": "stream",
     "text": [
      "/home/ives/anaconda3/lib/python3.6/site-packages/matplotlib/axes/_axes.py:6462: UserWarning: The 'normed' kwarg is deprecated, and has been replaced by the 'density' kwarg.\n",
      "  warnings.warn(\"The 'normed' kwarg is deprecated, and has been \"\n"
     ]
    },
    {
     "data": {
      "image/png": "[encoded data removed]",
      "text/plain": [
       "<Figure size 432x288 with 1 Axes>"
      ]
     },
     "metadata": {},
     "output_type": "display_data"
    }
   ],
   "source": [
    "size=10000\n",
    "alpha = 0.05\n",
    "\n",
    "#Initialize array of replicates \n",
    "bs_replicates = np.empty(size)\n",
    "for i in range(size):\n",
    "    # Generate bootstrap sample: bs_sample\n",
    "    bs_sample = np.random.choice(df['temperature'], len(df))\n",
    "    #Calculate the mean of bootstrap sample\n",
    "    mean_temp = np.mean(bs_sample)\n",
    "    bs_replicates[i] = mean_temp\n",
    "#Compute and print the standard error of the mean\n",
    "sem = np.std(df['temperature'])/np.sqrt(len(df))\n",
    "print('The standard error of the mean body temperature is %d:' %sem)\n",
    "\n",
    "#Compute and print standard deviation of boostrap replicates\n",
    "bs_std = np.std(bs_replicates)\n",
    "print('The standard deviation of bootstrap replicates is %d' %bs_std)\n",
    "\n",
    "#Compute and print p-value:\n",
    "p = np.sum(bs_replicates == 98.6)/len(bs_replicates)\n",
    "print('The p-value of the number of bootstrap replicates that have a mean of 98.6 is %d:' %p + \\\n",
    "     'which is much less than alpha=0.05.')\n",
    "\n",
    "#Testing null hypothesis using p-value\n",
    "print(test_null(p))\n",
    "\n",
    "#Generate histogram plot of the results\n",
    "plt.hist(bs_replicates, bins=40, normed=True)\n",
    "plt.xlabel('Mean Body Temperature')\n",
    "plt.ylabel('Percentage')\n",
    "plt.axvline(x=98.6, color='r')\n",
    "plt.show()"
   ]
  },
  {
   "cell_type": "markdown",
   "metadata": {},
   "source": [
    "#### Step 2: Frequentist Statistical Testing"
   ]
  },
  {
   "cell_type": "markdown",
   "metadata": {},
   "source": [
    "A one-sample frequentist statistical test would be appropriate in this scenario since the dataset of boday temperatures will be tested against the population mean of 98.6 F. Since the population standard deviation is unknown, the t-statistic is more appropriate than the z-statistic in this case. However, since the sample size of this dataset is 130, which is sufficiently large and thus the results for the mean confidence interval obtained from both z-statistic and t-statistic should be similar. In this scenario, both a two-tailed t-test and z-test will be performed to compare the results obtained for a 95% confidence interval. A two-tailed t-test is needed since we are testing whether the true mean of the body temperature is 98.6 or not. "
   ]
  },
  {
   "cell_type": "code",
   "execution_count": 171,
   "metadata": {},
   "outputs": [
    {
     "name": "stdout",
     "output_type": "stream",
     "text": [
      "The t-value is -5.454823 and the p-value is 0.000000\n",
      "Since the p-value of the two-tailed t-test is greater than 0.05, The null hyposthesis is rejected.\n",
      "The z-value is -5.475925 and the p-value is 0.000000\n",
      "Since the p-value of the two-tailed z-test is much less than 0.05, The null hyposthesis is rejected.\n"
     ]
    }
   ],
   "source": [
    "#Testing using t-score\n",
    "ttest = stats.ttest_1samp(df['temperature'], 98.6)\n",
    "print('The t-value is %f' %ttest[0] + ' and the p-value is %f' %ttest[1])\n",
    "print('Since the p-value of the two-tailed t-test is greater than 0.05, ' + test_null(ttest[1]))\n",
    "\n",
    "#Testing using z_score\n",
    "\n",
    "mean = np.mean(df['temperature'])\n",
    "std = np.std(df['temperature'])\n",
    "z_val = (mean - 98.6)/(std/np.sqrt(len(df)))\n",
    "z_test = stats.norm.cdf(z_val)*2\n",
    "print('The z-value is %f' %z_val + ' and the p-value is %f' %z_test)\n",
    "print('Since the p-value of the two-tailed z-test is much less than 0.05, ' + test_null(z_test))"
   ]
  },
  {
   "cell_type": "markdown",
   "metadata": {},
   "source": [
    "### Task 4: Draw a small sample of size 10 from the data and repeat both frequentist tests.\n",
    "+ Which one is the correct one to use?\n",
    "+ What do you notice? What does this tell you about the difference in application of the  tt  and  zz  statistic?"
   ]
  },
  {
   "cell_type": "code",
   "execution_count": 143,
   "metadata": {},
   "outputs": [],
   "source": [
    "np.random.seed(22)\n",
    "a = np.arange(130)\n",
    "inds = np.random.choice(a, 10)\n",
    "selected = df['temperature'][inds]"
   ]
  },
  {
   "cell_type": "markdown",
   "metadata": {},
   "source": [
    "Since the sample size is 10 this time, z-score would not be the appropriate statistic to use here anymore. Instead, the t-test should be used to validate the null hypothesis. "
   ]
  },
  {
   "cell_type": "code",
   "execution_count": 170,
   "metadata": {},
   "outputs": [
    {
     "name": "stdout",
     "output_type": "stream",
     "text": [
      "The t-value is -1.516629 and the p-value is 0.163668\n",
      "Since the p-value of the two-tailed t-test is greater than 0.05, The null hypothesis cannot be rejected.\n",
      "The z-value is -1.598668 and the p-value is 0.109894\n",
      "Since the p-value of the two-tailed z-test is much less than 0.05, The null hypothesis cannot be rejected.\n"
     ]
    }
   ],
   "source": [
    "ttest = stats.ttest_1samp(selected, 98.6)\n",
    "print('The t-value is %f' %ttest[0] + ' and the p-value is %f' %ttest[1])\n",
    "print('Since the p-value of the two-tailed t-test is greater than 0.05, ' + test_null(ttest[1]))\n",
    "\n",
    "mean = np.mean(selected)\n",
    "std = np.std(selected)\n",
    "z_val = (mean - 98.6)/(std/np.sqrt(len(selected)))\n",
    "z_test = stats.norm.cdf(z_val)*2\n",
    "print('The z-value is %f' %z_val + ' and the p-value is %f' %z_test)\n",
    "print('Since the p-value of the two-tailed z-test is much less than 0.05, ' + test_null(z_test))"
   ]
  },
  {
   "cell_type": "markdown",
   "metadata": {},
   "source": [
    "The conclusion of whether or not the true mean of body temperature is 98.6 F changed dramatically after using a different sample size. This fact tells us that these two tests are sample-size dependent and we need to take caution when using them. "
   ]
  },
  {
   "cell_type": "markdown",
   "metadata": {},
   "source": [
    "### Task 5: At what temperature should we consider someone's temperature to be \"abnormal\"?\n",
    "+ As in the previous example, try calculating everything using the boostrap approach, as well as the frequentist approach.\n",
    "+ Start by computing the margin of error and confidence interval. When calculating the confidence interval, keep in mind that you should use the appropriate formula for one draw, and not N draws."
   ]
  },
  {
   "cell_type": "code",
   "execution_count": 119,
   "metadata": {},
   "outputs": [
    {
     "name": "stdout",
     "output_type": "stream",
     "text": [
      "The range of true mean of body temperature using 95% confidence interval and t-statistic is from  98.12  to  98.38\n",
      "The range of true mean of body temperature using 95% confidence interval and z-statistic is from  98.12  to  98.37\n"
     ]
    }
   ],
   "source": [
    "# Determine the 95% confidence interval for the mean of body temperature\n",
    "def confidence_interval(data, ci, two_tails= None):\n",
    "    mu = np.mean(data)\n",
    "    sigma = np.std(data)\n",
    "    n = len(data)\n",
    "    if two_tails:\n",
    "        t = stats.t.ppf(ci+(1-ci)/2, n-1)\n",
    "        z = stats.norm.ppf(ci+(1-ci)/2)\n",
    "    else:\n",
    "        t = stats.t.ppf(ci, n-1)\n",
    "        z = stats.norm.pdf(ci+(1-ci)/2)\n",
    "    hight = mu + t*sigma/np.sqrt(n)\n",
    "    lowt = mu - t*sigma/np.sqrt(n)\n",
    "    highz = mu + z*sigma/np.sqrt(n)\n",
    "    lowz = mu - z*sigma/np.sqrt(n)\n",
    "    return round(hight, 2), round(lowt,2), round(highz, 2), round(lowz,2) \n",
    "\n",
    "cf95 = confidence_interval(df['temperature'], 0.95, True)\n",
    "print (\"The range of true mean of body temperature using 95% confidence interval and t-statistic is from \",\\\n",
    "       cf95[1], ' to ', cf95[0])\n",
    "print (\"The range of true mean of body temperature using 95% confidence interval and z-statistic is from \",\\\n",
    "       cf95[3], ' to ', cf95[2])\n"
   ]
  },
  {
   "cell_type": "markdown",
   "metadata": {},
   "source": [
    "### Task 6: Is there a significant difference between males and females in normal temperature?\n",
    "+ What testing approach did you use and why?\n",
    "+ Write a story with your conclusion in the context of the original problem."
   ]
  },
  {
   "cell_type": "markdown",
   "metadata": {},
   "source": [
    "A two-sample t-test should be used to compare the difference between males and females in normal temperatures. A two-sample t-test is the most appropriate way to tackle this task since we can use to test the difference in means of the two samples: body temperatures of male verus body temperatures of females. The null hypothesis would be that there is no difference in body temperature between male and female. "
   ]
  },
  {
   "cell_type": "code",
   "execution_count": 186,
   "metadata": {},
   "outputs": [
    {
     "data": {
      "image/png": "[encoded data removed]",
      "text/plain": [
       "<Figure size 432x288 with 2 Axes>"
      ]
     },
     "metadata": {},
     "output_type": "display_data"
    }
   ],
   "source": [
    "# Observe the dataset for both male and female\n",
    "df['temperature'].hist(by=df['gender'], width=0.4, range=[xmin, xmax])\n",
    "None"
   ]
  },
  {
   "cell_type": "code",
   "execution_count": 205,
   "metadata": {},
   "outputs": [
    {
     "name": "stdout",
     "output_type": "stream",
     "text": [
      "The mean body temperature for men is 98.10 and the mean body temperature for women is 98.39\n",
      "The t-value is -5.454823 and the p-value is 0.000000\n",
      "Since the p-value of the two-tailed t-test is less than 0.05, The null hyposthesis is rejected.\n"
     ]
    }
   ],
   "source": [
    "males = df['temperature'][df['gender'] == 'M']\n",
    "females = df['temperature'][df['gender'] == 'F']\n",
    "\n",
    "print ('The mean body temperature for men is %.2f' %np.mean(males), \\\n",
    "       'and the mean body temperature for women is %.2f' %np.mean(females))\n",
    "ttest_diff = stats.ttest_ind(males, females, equal_var = False) \n",
    "print('The t-value is %f' %ttest[0] + ' and the p-value is %f' %ttest[1])\n",
    "print('Since the p-value of the two-tailed t-test is less than 0.05, ' + test_null(ttest[1]))"
   ]
  },
  {
   "cell_type": "markdown",
   "metadata": {},
   "source": [
    "The null hypothesis, which states that there is no difference between the body temperatures of male and females is rejected based on this two-sample two-tailed t-test"
   ]
  },
  {
   "cell_type": "markdown",
   "metadata": {},
   "source": [
    "### Conclusions\n",
    "+ Even though 98.6 has been accepted as the normal body temperature for a long time, 98.6 F is not within the 95% confidence interval of the true mean body temperatures as indicated in this statistical data analysis. Therefore, this temperature is considered to be abnormal.\n",
    "\n",
    "+ The mean temperatures for men and women are 98.1 and 98.4 F, respectively. According to the conducted two-sample two-tailed t-test, the statistical t-value is -5.45 with a p-value of 0.0000000. The null hypothesis, which stated that there is no difference in the mean body temperatures of women and men is rejected. \n"
   ]
  }
 ],
 "metadata": {
  "kernelspec": {
   "display_name": "Python 3",
   "language": "python",
   "name": "python3"
  },
  "language_info": {
   "codemirror_mode": {
    "name": "ipython",
    "version": 3
   },
   "file_extension": ".py",
   "mimetype": "text/x-python",
   "name": "python",
   "nbconvert_exporter": "python",
   "pygments_lexer": "ipython3",
   "version": "3.6.5"
  }
 },
 "nbformat": 4,
 "nbformat_minor": 1
}
