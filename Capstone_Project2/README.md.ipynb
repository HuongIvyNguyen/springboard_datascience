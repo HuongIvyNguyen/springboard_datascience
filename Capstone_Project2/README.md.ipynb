{
 "cells": [
  {
   "cell_type": "markdown",
   "metadata": {},
   "source": [
    "The ability to predict the movement of stock price in the financial industry is always an intriguing but challenging task; however, we might be able to find a solution to that challenge via numerous tools available to the field of data analytics. In this project, we would like to combine different techniques that machine learning offers us and news data as a feature to build an efficient predictive model. We are hoping to learn more about the predictive power of news data and thus explore its significant economic impact on the financial industry. This repository is a part of the Data Science intensive program of Springboard. \n",
    "\n",
    "There are two sources of data in this study: the market data the news data. These two datasets are collected from 2007 to present and are not guaranteed to be clean or have no errors. The market dataset includes financial market information such as opening price, closing price, trading volume, calculated returns, etc...whereas the news dataset contains information about news articles/alerts published about assets such as article details, sentiment, and other commentary. The description of each variable from each dataset can be found via https://www.kaggle.com/c/two-sigma-financial-news/data. \n",
    "\n",
    "The best way to understand this project is to follow the following order:\n",
    "\n",
    "+ Part 1: EDA_capstone2.ipynb\n",
    "+ Part 2: Model_Selection_and_Prediction.ipnb\n",
    "\n",
    "The result of the model prediction is in the submission.csv file. "
   ]
  }
 ],
 "metadata": {
  "kernelspec": {
   "display_name": "Python 3",
   "language": "python",
   "name": "python3"
  },
  "language_info": {
   "codemirror_mode": {
    "name": "ipython",
    "version": 3
   },
   "file_extension": ".py",
   "mimetype": "text/x-python",
   "name": "python",
   "nbconvert_exporter": "python",
   "pygments_lexer": "ipython3",
   "version": "3.6.5"
  }
 },
 "nbformat": 4,
 "nbformat_minor": 2
}
