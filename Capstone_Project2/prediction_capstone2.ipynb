{
  "cells": [
    {
      "metadata": {
        "_uuid": "8f2839f25d086af736a60e9eeb907d3b93b6e0e5",
        "_cell_guid": "b1076dfc-b9ad-4769-8c92-a6c4dae69d19",
        "trusted": true
      },
      "cell_type": "code",
      "source": "import pandas as pd\nimport numpy as np\nimport matplotlib.pyplot as plt\nimport seaborn as sns\nimport gc \nimport time\n\nimport plotly.offline as py\npy.init_notebook_mode(connected=True)\nimport plotly.graph_objs as go\n\n%matplotlib inline",
      "execution_count": 1,
      "outputs": [
        {
          "output_type": "display_data",
          "data": {
            "text/html": "<script type=\"text/javascript\">window.PlotlyConfig = {MathJaxConfig: 'local'};</script><script type=\"text/javascript\">if (window.MathJax) {MathJax.Hub.Config({SVG: {font: \"STIX-Web\"}});}</script><script>requirejs.config({paths: { 'plotly': ['https://cdn.plot.ly/plotly-latest.min']},});if(!window._Plotly) {require(['plotly'],function(plotly) {window._Plotly=plotly;});}</script>",
            "text/vnd.plotly.v1+html": "<script type=\"text/javascript\">window.PlotlyConfig = {MathJaxConfig: 'local'};</script><script type=\"text/javascript\">if (window.MathJax) {MathJax.Hub.Config({SVG: {font: \"STIX-Web\"}});}</script><script>requirejs.config({paths: { 'plotly': ['https://cdn.plot.ly/plotly-latest.min']},});if(!window._Plotly) {require(['plotly'],function(plotly) {window._Plotly=plotly;});}</script>"
          },
          "metadata": {}
        }
      ]
    },
    {
      "metadata": {
        "_cell_guid": "79c7e3d0-c299-4dcb-8224-4455121ee9b0",
        "_uuid": "d629ff2d2480ee46fbb7e2d37f6b5fab8052498a",
        "trusted": true
      },
      "cell_type": "code",
      "source": "from kaggle.competitions import twosigmanews\nenv = twosigmanews.make_env()",
      "execution_count": 2,
      "outputs": [
        {
          "output_type": "stream",
          "text": "Loading the data... This could take a minute.\nDone!\n",
          "name": "stdout"
        }
      ]
    },
    {
      "metadata": {
        "trusted": true,
        "_uuid": "b68ffec78bc3517bbe86dfa9c434d3bcf6e350c6"
      },
      "cell_type": "code",
      "source": "def unstack_news_data(news_train_df):\n    drop_list = ['sourceTimestamp', 'firstCreated', 'sourceId', 'headline','takeSequence', 'subjects', 'audiences',\n             'bodySize', 'marketCommentary']\n    news_train_df.drop(drop_list, axis=1, inplace=True)\n    news_train_df['assetCodes'] = news_train_df['assetCodes'].apply(lambda x:x[1:-1].replace(\"'\", \"\"))\n    \n    assetCodes = []\n    indices = []\n\n    for i, val in news_train_df['assetCodes'].iteritems():\n        codes = val.split(\",\")\n        assetCodes.extend(codes)\n        list_index = [int(i)]*len(codes)\n        indices.extend(list_index)\n\n    index_df = pd.DataFrame({'new_index': indices, 'assetCode': assetCodes})\n    news_train_df.drop(['assetCodes'], axis=1, inplace=True)\n    news_train_df['new_index'] = news_train_df.index.copy()\n    news_unstack = index_df.merge(news_train_df, how='left', on='new_index')\n    del index_df\n    news_unstack.drop(['new_index'], axis=1, inplace=True)\n    news_unstack['date'] = news_unstack.time.dt.date\n    return news_unstack\n\ndef regroup_news(news_unstack):\n    group_news = news_unstack.groupby(['assetCode', 'date']).agg(['mean'])\n    group_news.columns = pd.Index([\"{}_{}\".format(i[0], i[1]) for i in group_news.columns.tolist()])\n    group_news.reset_index(inplace=True)\n    return group_news\n\ndef merge_market_news(market_train_df, group_news):\n    market_train_df['date'] = market_train_df.time.dt.date\n    market_news_df = market_train_df.merge(group_news, how='left', on=['assetCode', 'date'])\n    return market_news_df\n\ndef get_features(market_news_df):\n    features = market_news_df.drop(['time', 'date', 'assetCode', 'assetName'], axis=1)\n    features = features.astype('float32')\n    features = features.fillna(features.mean())\n    return features    ",
      "execution_count": 3,
      "outputs": []
    },
    {
      "metadata": {
        "trusted": true,
        "_uuid": "af902fe19b5b08c4cd97d7b082ab864011a624ca"
      },
      "cell_type": "code",
      "source": "(market_train_df, news_train_df) = env.get_training_data()",
      "execution_count": 11,
      "outputs": []
    },
    {
      "metadata": {
        "trusted": true,
        "_uuid": "e947495a138e3ee796990d56a21cdb3c24926a00"
      },
      "cell_type": "code",
      "source": "start = time.time()\nnews_unstack = unstack_news_data(news_train_df)\nprint (time.time() - start)",
      "execution_count": 12,
      "outputs": [
        {
          "output_type": "stream",
          "text": "35.64110493659973\n",
          "name": "stdout"
        }
      ]
    },
    {
      "metadata": {
        "trusted": true,
        "_uuid": "43cfa35c9730678e19f38e211e34f32501ea3b39"
      },
      "cell_type": "code",
      "source": "group_news = regroup_news(news_unstack)\ndel news_unstack\ngc.collect()",
      "execution_count": 13,
      "outputs": [
        {
          "output_type": "execute_result",
          "execution_count": 13,
          "data": {
            "text/plain": "357"
          },
          "metadata": {}
        }
      ]
    },
    {
      "metadata": {
        "trusted": true,
        "_uuid": "db85996a81ea34ce4ca812676a3619c7ada383e1"
      },
      "cell_type": "code",
      "source": "market_news_df = merge_market_news(market_train_df, group_news)\ndel group_news\ngc.collect()",
      "execution_count": 14,
      "outputs": [
        {
          "output_type": "execute_result",
          "execution_count": 14,
          "data": {
            "text/plain": "46"
          },
          "metadata": {}
        }
      ]
    },
    {
      "metadata": {
        "trusted": true,
        "_uuid": "264e1b8ae08417b467562a64650c663fa631dc76"
      },
      "cell_type": "code",
      "source": "features = market_news_df.drop(['returnsOpenNextMktres10', 'time', 'date', 'assetCode', 'assetName'], axis=1)\nfeatures = features.astype('float32')\nfeatures = features.fillna(features.mean())",
      "execution_count": 15,
      "outputs": []
    },
    {
      "metadata": {
        "trusted": true,
        "_uuid": "fd6fceedc8d9fbe2e391cc38f60e56b9c7982728"
      },
      "cell_type": "code",
      "source": "import sklearn\nfrom sklearn.model_selection import train_test_split\nX_train, X_test, y_train, y_test = train_test_split(features, market_news_df.returnsOpenNextMktres10, test_size=0.2, random_state=123)",
      "execution_count": 16,
      "outputs": []
    },
    {
      "metadata": {
        "trusted": true,
        "_uuid": "4ca6e6d15d674061437df7cfe10a3f1d02c8982a",
        "scrolled": true
      },
      "cell_type": "code",
      "source": "import lightgbm as lgb\n\nparams = {'learning_rate': 0.1, \n         'max_depth': 10, \n         'objective': 'binary', \n         'metric': ['accuracy', 'auc', 'log_loss'], \n         'seed': 123}\n\nstart_time = time.time()\nlgb_model = lgb.train(params, train_set=lgb.Dataset(X_train, label=y_train), \n                      num_boost_round=1000, valid_sets=[lgb.Dataset(X_train, label=y_train), \n                                                      lgb.Dataset(X_test, label=y_test)], \n                     early_stopping_rounds=100)\nprint ('The training time using LightGBM is: {}'.format(time.time()-start_time))",
      "execution_count": null,
      "outputs": []
    },
    {
      "metadata": {
        "trusted": true,
        "_uuid": "4a2b75e4a1cf0c1f37b8927913856599b0c163c1"
      },
      "cell_type": "code",
      "source": "days = env.get_prediction_days()",
      "execution_count": null,
      "outputs": []
    },
    {
      "metadata": {
        "trusted": true,
        "_uuid": "fbd4cfa3219b05fb0a1397d9d428d0c46254eb9a"
      },
      "cell_type": "code",
      "source": "for (market_obs_df, news_obs_df, predictions_template_df) in days:\n    news_unstack = unstack_news_data(news_obs_df)\n    group_news = regroup_news(news_unstack)\n    market_news_df = merge_market_news(market_obs_df, group_news)\n    obs_df = market_news_df[market_news_df.assetCode.isin(predictions_template_df.assetCode)]\n\n    del market_obs_df, news_obs_df, group_news, news_unstack, market_news_df\n\n    features = get_features(obs_df)\n    preds = lgb_model.predict(features)* 2 - 1\n    sub = pd.DataFrame({'assetCode': obs_df['assetCode'], 'confidence': preds})\n    predictions_template_df = predictions_template_df.merge(sub, \n                                                            how='left').drop('confidenceValue', \n                                                                             axis=1).fillna(0).rename(columns={'confidence':'confidenceValue'})\n\n    env.predict(predictions_template_df)\n    del obs_df, predictions_template_df, preds, sub\nenv.write_submission_file()\n",
      "execution_count": null,
      "outputs": []
    },
    {
      "metadata": {
        "trusted": true,
        "_uuid": "7bce61f815ce960225086bcdf6ae6b0231a345ff"
      },
      "cell_type": "code",
      "source": "",
      "execution_count": null,
      "outputs": []
    }
  ],
  "metadata": {
    "kernelspec": {
      "display_name": "Python 3",
      "language": "python",
      "name": "python3"
    },
    "language_info": {
      "name": "python",
      "version": "3.6.6",
      "mimetype": "text/x-python",
      "codemirror_mode": {
        "name": "ipython",
        "version": 3
      },
      "pygments_lexer": "ipython3",
      "nbconvert_exporter": "python",
      "file_extension": ".py"
    }
  },
  "nbformat": 4,
  "nbformat_minor": 1
}