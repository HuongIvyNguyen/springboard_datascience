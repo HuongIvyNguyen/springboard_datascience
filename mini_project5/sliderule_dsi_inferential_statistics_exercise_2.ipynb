{
 "cells": [
  {
   "cell_type": "markdown",
   "metadata": {},
   "source": [
    "# Examining Racial Discrimination in the US Job Market\n",
    "\n",
    "### Background\n",
    "Racial discrimination continues to be pervasive in cultures throughout the world. Researchers examined the level of racial discrimination in the United States labor market by randomly assigning identical résumés to black-sounding or white-sounding names and observing the impact on requests for interviews from employers.\n",
    "\n",
    "### Data\n",
    "In the dataset provided, each row represents a resume. The 'race' column has two values, 'b' and 'w', indicating black-sounding and white-sounding. The column 'call' has two values, 1 and 0, indicating whether the resume received a call from employers or not.\n",
    "\n",
    "Note that the 'b' and 'w' values in race are assigned randomly to the resumes when presented to the employer."
   ]
  },
  {
   "cell_type": "markdown",
   "metadata": {},
   "source": [
    "<div class=\"span5 alert alert-info\">\n",
    "### Exercises\n",
    "You will perform a statistical analysis to establish whether race has a significant impact on the rate of callbacks for resumes.\n",
    "\n",
    "Answer the following questions **in this notebook below and submit to your Github account**. \n",
    "\n",
    "   1. What test is appropriate for this problem? Does CLT apply?\n",
    "   2. What are the null and alternate hypotheses?\n",
    "   3. Compute margin of error, confidence interval, and p-value. Try using both the bootstrapping and the frequentist statistical approaches.\n",
    "   4. Write a story describing the statistical significance in the context or the original problem.\n",
    "   5. Does your analysis mean that race/name is the most important factor in callback success? Why or why not? If not, how would you amend your analysis?\n",
    "\n",
    "You can include written notes in notebook cells using Markdown: \n",
    "   - In the control panel at the top, choose Cell > Cell Type > Markdown\n",
    "   - Markdown syntax: http://nestacms.com/docs/creating-content/markdown-cheat-sheet\n",
    "\n",
    "\n",
    "#### Resources\n",
    "+ Experiment information and data source: http://www.povertyactionlab.org/evaluation/discrimination-job-market-united-states\n",
    "+ Scipy statistical methods: http://docs.scipy.org/doc/scipy/reference/stats.html \n",
    "+ Markdown syntax: http://nestacms.com/docs/creating-content/markdown-cheat-sheet\n",
    "+ Formulas for the Bernoulli distribution: https://en.wikipedia.org/wiki/Bernoulli_distribution\n",
    "</div>\n",
    "****"
   ]
  },
  {
   "cell_type": "code",
   "execution_count": 24,
   "metadata": {},
   "outputs": [],
   "source": [
    "import pandas as pd\n",
    "import numpy as np\n",
    "from scipy import stats"
   ]
  },
  {
   "cell_type": "code",
   "execution_count": 25,
   "metadata": {},
   "outputs": [],
   "source": [
    "data = pd.io.stata.read_stata('data/us_job_market_discrimination.dta')"
   ]
  },
  {
   "cell_type": "code",
   "execution_count": 26,
   "metadata": {},
   "outputs": [
    {
     "name": "stdout",
     "output_type": "stream",
     "text": [
      "The number of callbacks that black-sounds names receive is 157  while the number of callbacks that white-sounding names receive is 235\n"
     ]
    }
   ],
   "source": [
    "# number of callbacks for black-sounding names\n",
    "bcalls = sum(data[data.race=='b'].call)\n",
    "\n",
    "# number of callbacks for white-sounding names\n",
    "wcalls = sum(data[data.race=='w'].call)\n",
    "\n",
    "print ('The number of callbacks that black-sounds names receive is %d' %bcalls, \\\n",
    "       ' while the number of callbacks that white-sounding names receive is %d' %wcalls)"
   ]
  },
  {
   "cell_type": "code",
   "execution_count": 27,
   "metadata": {},
   "outputs": [
    {
     "name": "stdout",
     "output_type": "stream",
     "text": [
      "The number of datapoints with black-sounding names is 2435  and the number of data points with white-sounding names is 2435\n"
     ]
    }
   ],
   "source": [
    "w = data[data.race=='w']\n",
    "b = data[data.race=='b']\n",
    "\n",
    "print ('The number of datapoints with black-sounding names is %d' %len(b),\\\n",
    "       ' and the number of data points with white-sounding names is %d' %len(w))"
   ]
  },
  {
   "cell_type": "code",
   "execution_count": 28,
   "metadata": {},
   "outputs": [
    {
     "name": "stdout",
     "output_type": "stream",
     "text": [
      "The number of callbacks that white-sounding names receive is 235  with the total of 2200  white-sounding names did not receive anything.\n",
      "Meanwhile, the number of callbacks that black-sounding names receive is 157  with the corresponding 2278 number of black-sounding names that did not receive a callback.\n"
     ]
    }
   ],
   "source": [
    "yesw = len(w[w['call'] == 1.0])\n",
    "now = len(w[w['call'] == 0.0])\n",
    "\n",
    "yesb = len(b[b['call'] == 1.0])\n",
    "nob = len(b[b['call'] == 0.0])\n",
    "\n",
    "print ('The number of callbacks that white-sounding names receive is %d' %yesw, ' with the total of %d' %now,\\\n",
    "       ' white-sounding names did not receive anything.')\n",
    "print ('Meanwhile, the number of callbacks that black-sounding names receive is %d' %yesb,\\\n",
    "       ' with the corresponding %d' %nob ,'number of black-sounding names that did not receive a callback.')"
   ]
  },
  {
   "cell_type": "markdown",
   "metadata": {},
   "source": [
    "### Q1: What test is appropriate for this problem? Does CLT apply?\n",
    "\n",
    "The most appropriate test for this problem is a two-sample binomial test since there are two different groups that are involved in this problem with each group has two different categorical results (receive a callback or do not receive a call back). In other words, we would need to conduct a two-sample two-tailed z-test to determine if there is a difference in the proportion of success between the two groups.This problem can also be solved as a two-tailed one-sample z-test by examining the statistics based on the difference between the callbacks among two groups. \n",
    "\n",
    "Another method that can be used to examine the racial discrimination between black- and white-sounding names for callbacks for job interviews is boostrap hypothesis test or permutation test. \n",
    "\n",
    "The central limit theorem can be applied when the number of sucess and the number of failure are at least 10. In addition, all obervations are independent from each other and the sample was collected randomly. In this case, the number of sucess and failures for both groups are significantly larger than 10 and therefore the central limit theorem is applied for this dichotomous senerio of the two groups. "
   ]
  },
  {
   "cell_type": "markdown",
   "metadata": {},
   "source": [
    "### Q2: What are the null and alternate hypotheses?\n",
    "In this case, the null hypothesis is to assume that there is no racial discrimination and the number of callbacks between two groups would be the same. The alternate hypothesis is that the number of callbacks that black-sounding names receive is different from the number of callbakcs that white-sounding names receive from their employers. "
   ]
  },
  {
   "cell_type": "markdown",
   "metadata": {},
   "source": [
    "### Q3: Compute margin of error, confidence interval, and p-value. Try using both the bootstrapping and the frequentist statistical approaches.\n"
   ]
  },
  {
   "cell_type": "markdown",
   "metadata": {},
   "source": [
    "#### Step 1: Frequentist statistical approach"
   ]
  },
  {
   "cell_type": "code",
   "execution_count": 29,
   "metadata": {},
   "outputs": [
    {
     "name": "stdout",
     "output_type": "stream",
     "text": [
      "The statistical z-score is 4.108412  and the corresponding p-value for this z-score is 0.0000398\n"
     ]
    }
   ],
   "source": [
    "#Set alpha value for statistic analysis \n",
    "alpha = 0.05 \n",
    "\n",
    "#calculate the proportion of success for black-sounding names:\n",
    "prop_b = yesb/len(b)\n",
    "\n",
    "#calculate the proportion of sucess for white-sounding names:\n",
    "prop_w = yesw/len(w)\n",
    "\n",
    "#Calculate proportion difference and the margin of error\n",
    "prop = prop_w - prop_b\n",
    "moe = np.sqrt(prop_b*(1-prop_b)/len(b) + prop_w*(1-prop_w)/len(w))\n",
    "\n",
    "#95% confidence interval\n",
    "low = round(prop + stats.norm.ppf(0.975)*moe, 4)\n",
    "high = round(prop + stats.norm.ppf(0.025)*moe, 4)\n",
    "\n",
    "#statistic z-score\n",
    "p_hat = len(data[data.call == 1.0])/len(data)\n",
    "z_stat = (prop - 0)/(np.sqrt(p_hat*(1-p_hat)*(1/len(w)+1/len(b))))\n",
    "p_val = stats.norm.sf(abs(z_stat))*2\n",
    "\n",
    "print ('The statistical z-score is %f' %z_stat, ' and the corresponding p-value for this z-score is %6.7f' %p_val)"
   ]
  },
  {
   "cell_type": "markdown",
   "metadata": {},
   "source": [
    "In comparison, the obtained p-value is much less than alpha-0.05 and thus the null hypothesis is rejected. Hence, based on this statistical analysis with a significance level of 5%, we can conclude that there is a difference in the number of callbacks that black-sounding names receive versus the number of callbacks that white-sounding names receive. "
   ]
  },
  {
   "cell_type": "markdown",
   "metadata": {},
   "source": [
    "#### Step 2: Bootstrap approach"
   ]
  },
  {
   "cell_type": "code",
   "execution_count": 30,
   "metadata": {},
   "outputs": [],
   "source": [
    "import pandas as pd \n",
    "\n",
    "def draw_bs_replicates(data, func, size):\n",
    "    bs_replicates = np.empty(size)\n",
    "    for i in range(size):\n",
    "        bs_sample = np.random.choice(data['call'], len(data))\n",
    "        rep = func(bs_sample)\n",
    "        bs_replicates[i] = rep\n",
    "    return bs_replicates\n",
    "\n",
    "def prop_call(array):\n",
    "    data = pd.DataFrame(array, columns=['call'])\n",
    "    n = len(data)\n",
    "    yes = len(data[data['call'] == 1.0])\n",
    "    return yes/n"
   ]
  },
  {
   "cell_type": "code",
   "execution_count": 31,
   "metadata": {},
   "outputs": [
    {
     "data": {
      "text/plain": [
       "392"
      ]
     },
     "execution_count": 31,
     "metadata": {},
     "output_type": "execute_result"
    }
   ],
   "source": [
    "#Check the number of successful trials, did receive a callback, from the entire dataset\n",
    "len(data[data.call == 1.0])"
   ]
  },
  {
   "cell_type": "markdown",
   "metadata": {},
   "source": [
    "In order to construct a bootstrap hypothesis test, we need to generate two new arrays for the black- and the white-sound names samples in such a way that they would have the same number of successful trials. In that way, we can then run the bootstrap hypothesis test under the assumption that the null hypothesis is true. There are 392 successful trials in total, in which there are 157 successful trials for the black-sounding names and 235 successful trails for the white-sounding names. Under the assumption that the null hypothesis is true, we will need to shift the number of sucessful trials for each group to become 192. Therefore, the new array would have 192 success and 2243 failures.  "
   ]
  },
  {
   "cell_type": "code",
   "execution_count": 32,
   "metadata": {},
   "outputs": [],
   "source": [
    "# Generate new arrays for the bootstrap hypothesis test\n",
    "shifted_b = pd.DataFrame(np.concatenate((np.ones(192), np.zeros(2243))), columns=['call'])\n",
    "shifted_w = shifted_b\n",
    "\n",
    "bs_replicates_w = draw_bs_replicates(shifted_w, prop_call, 10000)\n",
    "bs_replicates_b = draw_bs_replicates(shifted_b, prop_call, 10000)\n",
    "\n",
    "bs_replicates = bs_replicates_w - bs_replicates_b\n",
    "\n",
    "lower_bound = 0 - prop\n",
    "upper_bound = np.mean(bs_replicates) + prop"
   ]
  },
  {
   "cell_type": "code",
   "execution_count": 33,
   "metadata": {},
   "outputs": [
    {
     "name": "stderr",
     "output_type": "stream",
     "text": [
      "/home/ives/anaconda3/lib/python3.6/site-packages/matplotlib/axes/_axes.py:6462: UserWarning: The 'normed' kwarg is deprecated, and has been replaced by the 'density' kwarg.\n",
      "  warnings.warn(\"The 'normed' kwarg is deprecated, and has been \"\n"
     ]
    },
    {
     "data": {
      "image/png": "[encoded data removed]",
      "text/plain": [
       "<Figure size 432x288 with 1 Axes>"
      ]
     },
     "metadata": {},
     "output_type": "display_data"
    }
   ],
   "source": [
    "import matplotlib.pyplot as plt\n",
    "% matplotlib inline\n",
    "\n",
    "plt.hist(bs_replicates, bins = 25, normed=True)\n",
    "plt.xlabel('Difference in Proportion')\n",
    "plt.ylabel('Percentage')\n",
    "plt.axvline(x=np.mean(bs_replicates), color='r')\n",
    "plt.axvline(x=lower_bound, color='k')\n",
    "plt.axvline(x=upper_bound, color='k')\n",
    "plt.show()"
   ]
  },
  {
   "cell_type": "code",
   "execution_count": 34,
   "metadata": {},
   "outputs": [
    {
     "name": "stdout",
     "output_type": "stream",
     "text": [
      "The p-value obtained from running the bootstrap hypothesis test for this dataset is 0.000000\n"
     ]
    }
   ],
   "source": [
    "p1 = np.sum(bs_replicates <= lower_bound)/len(bs_replicates)\n",
    "p2 = np.sum(bs_replicates >= upper_bound)/len(bs_replicates)\n",
    "p_val = p1 + p2\n",
    "\n",
    "print ('The p-value obtained from running the bootstrap hypothesis test for this dataset is %f' %p_val)"
   ]
  },
  {
   "cell_type": "markdown",
   "metadata": {},
   "source": [
    "Since the p-value obtained from the bootstrap hypothesis test is lower than alpha = 0.05, we reject the null hypothesis. Therefore, there is statistical significant evidence that the number of callbacks that white-sounding names receive is greater than the number of callbacks that black-sounding names receive."
   ]
  },
  {
   "cell_type": "markdown",
   "metadata": {},
   "source": [
    "### Q4: Write a story describing the statistical significance in the context or the original problem."
   ]
  },
  {
   "cell_type": "markdown",
   "metadata": {},
   "source": [
    "Based on the statistical analysis conducted in this study using both frequentist test and bootstrap hypothesis test,there is statistical significant evidence that the number of callbacks that white-sounding names receive is greater than the number of callbacks that black-sounding names receive.\n",
    "\n",
    "+ In the case of the frequentist test, the obtained p-value is 0.0000398, which is much less than alpha/2 and hence we can reject the null hypothesis. In other words, if the null hypothesis were true then there is only 0.00398% chance of the observed data being sampled. \n",
    "+ In the case of the bootstrap hypothesis test, there is a 0% chance that the null hypothesis is true when being compared to the true difference in proportion between two groups. Hence, the null hypothesis is also rejected. "
   ]
  },
  {
   "cell_type": "markdown",
   "metadata": {},
   "source": [
    "### Q5: Does your analysis mean that race/name is the most important factor in callback success? Why or why not? If not, how would you amend your analysis?"
   ]
  },
  {
   "cell_type": "markdown",
   "metadata": {},
   "source": [
    "The analysis does not mean that race/name is the most important factor in callback success since hypothesis testing does not lead to causation in any statistical scenario. Instead, the analysis helps to point out that there is a chance that the number of callbacks white-sounding names receive is different from the number of callbacks black-sounding names receive.  "
   ]
  }
 ],
 "metadata": {
  "kernelspec": {
   "display_name": "Python 3",
   "language": "python",
   "name": "python3"
  },
  "language_info": {
   "codemirror_mode": {
    "name": "ipython",
    "version": 3
   },
   "file_extension": ".py",
   "mimetype": "text/x-python",
   "name": "python",
   "nbconvert_exporter": "python",
   "pygments_lexer": "ipython3",
   "version": "3.6.5"
  }
 },
 "nbformat": 4,
 "nbformat_minor": 1
}
